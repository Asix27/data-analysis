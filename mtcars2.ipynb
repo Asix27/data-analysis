{
 "cells": [
  {
   "cell_type": "code",
   "execution_count": 2,
   "metadata": {},
   "outputs": [
    {
     "name": "stdout",
     "output_type": "stream",
     "text": [
      "(1, 'Mazda RX4', 21, 6, 160, 110, 3.9, 2.62, 16.46, False, True, 4, 4)\n",
      "(2, 'Mazda RX4 Wag', 21, 6, 160, 110, 3.9, 2.875, 17.02, False, True, 4, 4)\n",
      "(3, 'Datsun 710', 22, 4, 108, 93, 3.85, 2.32, 18.61, True, True, 4, 1)\n",
      "(4, 'Hornet 4 Drive', 21, 6, 258, 110, 3.08, 3.215, 19.44, True, False, 3, 1)\n",
      "(5, 'Hornet Sportabout', 18, 8, 360, 175, 3.15, 3.44, 17.02, False, False, 3, 2)\n",
      "(6, 'Valiant', 18, 6, 225, 105, 2.76, 3.46, 20.22, True, False, 3, 1)\n",
      "(7, 'Duster 360', 14, 8, 360, 245, 3.21, 3.57, 15.84, False, False, 3, 4)\n",
      "(8, 'Merc 240D', 24, 4, 146, 62, 3.69, 3.19, 20.0, True, False, 4, 2)\n",
      "(9, 'Merc 230', 22, 4, 140, 95, 3.92, 3.15, 22.9, True, False, 4, 2)\n",
      "(10, 'Merc 280', 19, 6, 167, 123, 3.92, 3.44, 18.3, True, False, 4, 4)\n",
      "(11, 'Merc 280C', 17, 6, 167, 123, 3.92, 3.44, 18.9, True, False, 4, 4)\n",
      "(12, 'Merc 450SE', 16, 8, 275, 180, 3.07, 4.07, 17.4, False, False, 3, 3)\n",
      "(13, 'Merc 450SL', 17, 8, 275, 180, 3.07, 3.73, 17.6, False, False, 3, 3)\n",
      "(14, 'Merc 450SLC', 15, 8, 275, 180, 3.07, 3.78, 18.0, False, False, 3, 3)\n",
      "(15, 'Cadillac Fleetwood', 10, 8, 472, 205, 2.93, 5.25, 17.98, False, False, 3, 4)\n",
      "(16, 'Lincoln Continental', 10, 8, 460, 215, 3.0, 5.424, 17.82, False, False, 3, 4)\n",
      "(17, 'Chrysler Imperial', 14, 8, 440, 230, 3.23, 5.345, 17.42, False, False, 3, 4)\n",
      "(18, 'Fiat 128', 32, 4, 78, 66, 4.08, 2.2, 19.47, True, True, 4, 1)\n",
      "(19, 'Honda Civic', 30, 4, 75, 52, 4.93, 1.615, 18.52, True, True, 4, 2)\n",
      "(20, 'Toyota Corolla', 33, 4, 71, 65, 4.22, 1.835, 19.9, True, True, 4, 1)\n",
      "(21, 'Toyota Corona', 21, 4, 120, 97, 3.7, 2.465, 20.01, True, False, 3, 1)\n",
      "(22, 'Dodge Challenger', 15, 8, 318, 150, 2.76, 3.52, 16.87, False, False, 3, 2)\n",
      "(23, 'AMC Javelin', 15, 8, 304, 150, 3.15, 3.435, 17.3, False, False, 3, 2)\n",
      "(24, 'Camaro Z28', 13, 8, 350, 245, 3.73, 3.84, 15.41, False, False, 3, 4)\n",
      "(25, 'Pontiac Firebird', 19, 8, 400, 175, 3.08, 3.845, 17.05, False, False, 3, 2)\n",
      "(26, 'Fiat X1-9', 27, 4, 79, 66, 4.08, 1.935, 18.9, True, True, 4, 1)\n",
      "(27, 'Porsche 914-2', 26, 4, 120, 91, 4.43, 2.14, 16.7, False, True, 5, 2)\n",
      "(28, 'Lotus Europa', 30, 4, 95, 113, 3.77, 1.513, 16.9, True, True, 5, 2)\n",
      "(29, 'Ford Pantera L', 15, 8, 351, 264, 4.22, 3.17, 14.5, False, True, 5, 4)\n",
      "(30, 'Ferrari Dino', 19, 6, 145, 175, 3.62, 2.77, 15.5, False, True, 5, 6)\n",
      "(31, 'Maserati Bora', 15, 8, 301, 335, 3.54, 3.57, 14.6, False, True, 5, 8)\n",
      "(32, 'Volvo 142E', 21, 4, 121, 109, 4.11, 2.78, 18.6, True, True, 4, 2)\n"
     ]
    }
   ],
   "source": [
    "import psycopg2\n",
    "from psycopg2 import sql\n",
    "\n",
    "db_params = {\n",
    "    'database': 'mtcars',\n",
    "    'user': 'postgres',\n",
    "    'password': 'Arrkam2015',\n",
    "    'host': '127.0.0.1',\n",
    "    'port': '5432',\n",
    "}\n",
    "\n",
    "connection = psycopg2.connect(**db_params)  \n",
    "\n",
    "cursor = connection.cursor()\n",
    "\n",
    "query = sql.SQL(\"SELECT * FROM mtcars1;\")\n",
    "cursor.execute(query)\n",
    "\n",
    "result = cursor.fetchall()\n",
    "\n",
    "for row in result:\n",
    "    print(row)\n",
    "\n",
    "cursor.close()\n",
    "connection.close()\n"
   ]
  }
 ],
 "metadata": {
  "kernelspec": {
   "display_name": "Python 3",
   "language": "python",
   "name": "python3"
  },
  "language_info": {
   "codemirror_mode": {
    "name": "ipython",
    "version": 3
   },
   "file_extension": ".py",
   "mimetype": "text/x-python",
   "name": "python",
   "nbconvert_exporter": "python",
   "pygments_lexer": "ipython3",
   "version": "3.11.5"
  }
 },
 "nbformat": 4,
 "nbformat_minor": 2
}
