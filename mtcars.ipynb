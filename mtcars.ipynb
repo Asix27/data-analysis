{
 "cells": [
  {
   "cell_type": "code",
   "execution_count": 3,
   "metadata": {},
   "outputs": [
    {
     "ename": "ModuleNotFoundError",
     "evalue": "No module named 'psycopg2'",
     "output_type": "error",
     "traceback": [
      "\u001b[1;31m---------------------------------------------------------------------------\u001b[0m",
      "\u001b[1;31mModuleNotFoundError\u001b[0m                       Traceback (most recent call last)",
      "\u001b[1;32mc:\\Users\\asix2\\OneDrive\\Рабочий стол\\4 курс\\ООИ\\Python\\mtcars.ipynb Ячейка 1\u001b[0m line \u001b[0;36m1\n\u001b[1;32m----> <a href='vscode-notebook-cell:/c%3A/Users/asix2/OneDrive/%D0%A0%D0%B0%D0%B1%D0%BE%D1%87%D0%B8%D0%B9%20%D1%81%D1%82%D0%BE%D0%BB/4%20%D0%BA%D1%83%D1%80%D1%81/%D0%9E%D0%9E%D0%98/Python/mtcars.ipynb#W0sZmlsZQ%3D%3D?line=0'>1</a>\u001b[0m \u001b[39mimport\u001b[39;00m \u001b[39mpsycopg2\u001b[39;00m\n\u001b[0;32m      <a href='vscode-notebook-cell:/c%3A/Users/asix2/OneDrive/%D0%A0%D0%B0%D0%B1%D0%BE%D1%87%D0%B8%D0%B9%20%D1%81%D1%82%D0%BE%D0%BB/4%20%D0%BA%D1%83%D1%80%D1%81/%D0%9E%D0%9E%D0%98/Python/mtcars.ipynb#W0sZmlsZQ%3D%3D?line=1'>2</a>\u001b[0m \u001b[39mfrom\u001b[39;00m \u001b[39mpsycopg2\u001b[39;00m \u001b[39mimport\u001b[39;00m sql\n\u001b[0;32m      <a href='vscode-notebook-cell:/c%3A/Users/asix2/OneDrive/%D0%A0%D0%B0%D0%B1%D0%BE%D1%87%D0%B8%D0%B9%20%D1%81%D1%82%D0%BE%D0%BB/4%20%D0%BA%D1%83%D1%80%D1%81/%D0%9E%D0%9E%D0%98/Python/mtcars.ipynb#W0sZmlsZQ%3D%3D?line=3'>4</a>\u001b[0m db_params \u001b[39m=\u001b[39m {\n\u001b[0;32m      <a href='vscode-notebook-cell:/c%3A/Users/asix2/OneDrive/%D0%A0%D0%B0%D0%B1%D0%BE%D1%87%D0%B8%D0%B9%20%D1%81%D1%82%D0%BE%D0%BB/4%20%D0%BA%D1%83%D1%80%D1%81/%D0%9E%D0%9E%D0%98/Python/mtcars.ipynb#W0sZmlsZQ%3D%3D?line=4'>5</a>\u001b[0m     \u001b[39m'\u001b[39m\u001b[39mdatabase\u001b[39m\u001b[39m'\u001b[39m: \u001b[39m'\u001b[39m\u001b[39mmtcars\u001b[39m\u001b[39m'\u001b[39m,\n\u001b[0;32m      <a href='vscode-notebook-cell:/c%3A/Users/asix2/OneDrive/%D0%A0%D0%B0%D0%B1%D0%BE%D1%87%D0%B8%D0%B9%20%D1%81%D1%82%D0%BE%D0%BB/4%20%D0%BA%D1%83%D1%80%D1%81/%D0%9E%D0%9E%D0%98/Python/mtcars.ipynb#W0sZmlsZQ%3D%3D?line=5'>6</a>\u001b[0m     \u001b[39m'\u001b[39m\u001b[39muser\u001b[39m\u001b[39m'\u001b[39m: \u001b[39m'\u001b[39m\u001b[39mpostgres\u001b[39m\u001b[39m'\u001b[39m,\n\u001b[1;32m   (...)\u001b[0m\n\u001b[0;32m      <a href='vscode-notebook-cell:/c%3A/Users/asix2/OneDrive/%D0%A0%D0%B0%D0%B1%D0%BE%D1%87%D0%B8%D0%B9%20%D1%81%D1%82%D0%BE%D0%BB/4%20%D0%BA%D1%83%D1%80%D1%81/%D0%9E%D0%9E%D0%98/Python/mtcars.ipynb#W0sZmlsZQ%3D%3D?line=8'>9</a>\u001b[0m     \u001b[39m'\u001b[39m\u001b[39mport\u001b[39m\u001b[39m'\u001b[39m: \u001b[39m'\u001b[39m\u001b[39m5432\u001b[39m\u001b[39m'\u001b[39m,\n\u001b[0;32m     <a href='vscode-notebook-cell:/c%3A/Users/asix2/OneDrive/%D0%A0%D0%B0%D0%B1%D0%BE%D1%87%D0%B8%D0%B9%20%D1%81%D1%82%D0%BE%D0%BB/4%20%D0%BA%D1%83%D1%80%D1%81/%D0%9E%D0%9E%D0%98/Python/mtcars.ipynb#W0sZmlsZQ%3D%3D?line=9'>10</a>\u001b[0m }\n",
      "\u001b[1;31mModuleNotFoundError\u001b[0m: No module named 'psycopg2'"
     ]
    }
   ],
   "source": [
    "import psycopg2\n",
    "from psycopg2 import sql\n",
    "\n",
    "db_params = {\n",
    "    'database': 'mtcars',\n",
    "    'user': 'postgres',\n",
    "    'password': 'Arrkam2015',\n",
    "    'host': '127.0.0.1',\n",
    "    'port': '5432',\n",
    "}\n",
    "\n",
    "# Установите соединение с базой данных\n",
    "connection = psycopg2.connect(**db_params)  \n",
    "\n",
    "# Создайте курсор для выполнения SQL-запросов\n",
    "cursor = connection.cursor()\n",
    "\n",
    "# Выполните SQL-запрос для выборки данных\n",
    "query = sql.SQL(\"SELECT * FROM ваша_таблица;\")\n",
    "cursor.execute(query)\n",
    "\n",
    "# Получите результат запроса\n",
    "result = cursor.fetchall()\n",
    "\n",
    "# Выведите результат на экран\n",
    "for row in result:\n",
    "    print(row)\n",
    "\n",
    "# Закройте курсор и соединение\n",
    "cursor.close()\n",
    "connection.close()\n"
   ]
  }
 ],
 "metadata": {
  "kernelspec": {
   "display_name": "Python 3",
   "language": "python",
   "name": "python3"
  },
  "language_info": {
   "codemirror_mode": {
    "name": "ipython",
    "version": 3
   },
   "file_extension": ".py",
   "mimetype": "text/x-python",
   "name": "python",
   "nbconvert_exporter": "python",
   "pygments_lexer": "ipython3",
   "version": "3.11.5"
  }
 },
 "nbformat": 4,
 "nbformat_minor": 2
}
