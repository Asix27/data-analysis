{
 "cells": [
  {
   "cell_type": "code",
   "execution_count": 2,
   "metadata": {},
   "outputs": [],
   "source": [
    "a = input(\"a = \")\n",
    "b = input(\"b = \")\n",
    "if(a>b):a\n",
    "else:b"
   ]
  },
  {
   "cell_type": "code",
   "execution_count": null,
   "metadata": {},
   "outputs": [],
   "source": [
    "a = int(input(\"god = \"))\n",
    "if(a%4==0 and a%100!=0) or (a%400==0):print(\"YES\")\n",
    "else:print(\"NO\")"
   ]
  },
  {
   "cell_type": "code",
   "execution_count": null,
   "metadata": {},
   "outputs": [],
   "source": [
    "a = int(input(\"a = \"))\n",
    "b = int(input(\"b = \"))\n",
    "for i in range(b):\n",
    "    if a%2==0:\n",
    "        print(a)\n",
    "        a+=1\n",
    "    else:\n",
    "        a+=1"
   ]
  },
  {
   "cell_type": "code",
   "execution_count": null,
   "metadata": {},
   "outputs": [],
   "source": [
    "a = int(input(\"a = \"))\n",
    "b = int(input(\"b = \"))\n",
    "for i in range(b):\n",
    "    if a%2==0:\n",
    "        print(a)\n",
    "        a+=1\n",
    "    else:\n",
    "        a+=1"
   ]
  },
  {
   "cell_type": "code",
   "execution_count": null,
   "metadata": {},
   "outputs": [],
   "source": [
    "a = int(input(\"a = \"))\n",
    "for i in range(1,a):\n",
    "    if i*i<a:\n",
    "        print(i*i)"
   ]
  },
  {
   "cell_type": "code",
   "execution_count": null,
   "metadata": {},
   "outputs": [],
   "source": [
    "def SumOfDigits(N):\n",
    "    sum = 0\n",
    "    while N>0:\n",
    "        A = N%10\n",
    "        sum = sum + A\n",
    "        N = N//10\n",
    "    return sum\n",
    "\n",
    "a = int(input(\"a = \"))\n",
    "SumOfDigits(a)"
   ]
  },
  {
   "cell_type": "code",
   "execution_count": null,
   "metadata": {},
   "outputs": [],
   "source": [
    "N = int(input(\"N = \"))\n",
    "arr = []\n",
    "for i in range(N):\n",
    "    arr.append(int(input()))\n",
    "for i in range(N):\n",
    "    if i%2==0:\n",
    "        print(arr[i])"
   ]
  },
  {
   "cell_type": "code",
   "execution_count": null,
   "metadata": {},
   "outputs": [],
   "source": [
    "N = int(input(\"N = \"))\n",
    "arr = list(map(int,input(\"arr = \").split()))\n",
    "for i in range(N):\n",
    "    if arr[i]%2==0:\n",
    "        print(arr[i])"
   ]
  },
  {
   "cell_type": "code",
   "execution_count": null,
   "metadata": {},
   "outputs": [],
   "source": [
    "N = int(input(\"N = \"))\n",
    "arr = list(map(int,input(\"arr = \").split()))\n",
    "for i in range(N):\n",
    "    if i%2==0:\n",
    "        print(arr[i])"
   ]
  },
  {
   "cell_type": "code",
   "execution_count": null,
   "metadata": {},
   "outputs": [],
   "source": [
    "N = int(input(\"N = \"))\n",
    "sum = 1\n",
    "for i in range(1,N+1):\n",
    "    sum = sum * i\n",
    "print(sum)"
   ]
  }
 ],
 "metadata": {
  "kernelspec": {
   "display_name": "Python 3",
   "language": "python",
   "name": "python3"
  },
  "language_info": {
   "codemirror_mode": {
    "name": "ipython",
    "version": 3
   },
   "file_extension": ".py",
   "mimetype": "text/x-python",
   "name": "python",
   "nbconvert_exporter": "python",
   "pygments_lexer": "ipython3",
   "version": "3.11.5"
  },
  "orig_nbformat": 4
 },
 "nbformat": 4,
 "nbformat_minor": 2
}
