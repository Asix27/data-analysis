{
 "cells": [
  {
   "cell_type": "markdown",
   "metadata": {
    "isInteractiveWindowMessageCell": true
   },
   "source": [
    "Подключено к Python 3.11.5"
   ]
  },
  {
   "cell_type": "code",
   "execution_count": 16,
   "metadata": {},
   "outputs": [
    {
     "name": "stdout",
     "output_type": "stream",
     "text": [
      "AND:\n",
      "6.144174602214718e-06\n",
      "0.01798620996209156\n",
      "0.01798620996209156\n",
      "0.9820137900379085\n"
     ]
    }
   ],
   "source": [
    "import numpy as np\n",
    "\n",
    "class Perceptron:\n",
    "    def __init__(self, input_size, weights=None, bias=None):\n",
    "        if weights is None:\n",
    "            self.weights = np.zeros(input_size)\n",
    "        else:\n",
    "            self.weights = np.array(weights)\n",
    "        \n",
    "        if bias is None:\n",
    "            self.bias = 0\n",
    "        else:\n",
    "            self.bias = bias\n",
    "    \n",
    "    def sigmoid(self, value):\n",
    "        return 1 / (1 + np.exp(-value))\n",
    "\n",
    "    def forward(self, inputs):\n",
    "        inputs = np.array(inputs)\n",
    "        output = np.dot(self.weights, inputs) + self.bias\n",
    "        return self.sigmoid(output)\n",
    "\n",
    "\n",
    "and_perceptron = Perceptron(input_size=2, weights=[8, 8], bias=-12)\n",
    "\n",
    "# Проверка\n",
    "print(\"AND:\")\n",
    "print(and_perceptron.forward([0, 0]))  \n",
    "print(and_perceptron.forward([0, 1]))\n",
    "print(and_perceptron.forward([1, 0]))  \n",
    "print(and_perceptron.forward([1, 1]))  \n"
   ]
  },
  {
   "cell_type": "code",
   "execution_count": 13,
   "metadata": {},
   "outputs": [
    {
     "name": "stdout",
     "output_type": "stream",
     "text": [
      "OR\n",
      "0.0066928509242848554\n",
      "0.9933071490757153\n",
      "0.9933071490757153\n",
      "0.999999694097773\n"
     ]
    }
   ],
   "source": [
    "import numpy as np\n",
    "\n",
    "class Perceptron:\n",
    "    def __init__(self, input_size, weights=None, bias=None):\n",
    "        if weights is None:\n",
    "            self.weights = np.zeros(input_size)\n",
    "        else:\n",
    "            self.weights = np.array(weights)\n",
    "        \n",
    "        if bias is None:\n",
    "            self.bias = 0\n",
    "        else:\n",
    "            self.bias = bias\n",
    "    \n",
    "    def sigmoid(self, value):\n",
    "        return 1 / (1 + np.exp(-value))\n",
    "\n",
    "    def forward(self, inputs):\n",
    "        inputs = np.array(inputs)\n",
    "        output = np.dot(self.weights, inputs) + self.bias\n",
    "        return self.sigmoid(output)\n",
    "\n",
    "or_perceptron = Perceptron(input_size=2, weights=[10, 10], bias=-5)\n",
    "\n",
    "print(\"OR\")\n",
    "print(or_perceptron.forward([0, 0]))\n",
    "print(or_perceptron.forward([0, 1]))\n",
    "print(or_perceptron.forward([1, 0]))\n",
    "print(or_perceptron.forward([1, 1]))\n"
   ]
  },
  {
   "cell_type": "code",
   "execution_count": 25,
   "metadata": {},
   "outputs": [
    {
     "name": "stdout",
     "output_type": "stream",
     "text": [
      "Результаты после обучения:\n",
      "[[0.10133625]\n",
      " [0.92036888]\n",
      " [0.92608594]\n",
      " [0.05930139]]\n"
     ]
    }
   ],
   "source": [
    "import numpy as np\n",
    "\n",
    "def sigmoid(x):\n",
    "    return 1 / (1 + np.exp(-x))\n",
    "\n",
    "def sigmoid_derivative(x):\n",
    "    return x * (1 - x)\n",
    "\n",
    "X = np.array([[0, 0], [0, 1], [1, 0], [1, 1]])\n",
    "y = np.array([[0], [1], [1], [0]])\n",
    "\n",
    "input_size = 2\n",
    "hidden_size = 4\n",
    "output_size = 1\n",
    "learning_rate = 0.1\n",
    "\n",
    "hidden_weights = np.random.uniform(size=(input_size, hidden_size))\n",
    "output_weights = np.random.uniform(size=(hidden_size, output_size))\n",
    "\n",
    "for i in range(10000):\n",
    "    hidden_layer_input = np.dot(X, hidden_weights)\n",
    "    hidden_layer_output = sigmoid(hidden_layer_input)\n",
    "    output_layer_input = np.dot(hidden_layer_output, output_weights)\n",
    "    output_layer_output = sigmoid(output_layer_input)\n",
    "\n",
    "    error = y - output_layer_output\n",
    "\n",
    "    d_output = error * sigmoid_derivative(output_layer_output)\n",
    "    error_hidden_layer = d_output.dot(output_weights.T)\n",
    "    d_hidden_layer = error_hidden_layer * sigmoid_derivative(hidden_layer_output)\n",
    "\n",
    "    output_weights += hidden_layer_output.T.dot(d_output) * learning_rate\n",
    "    hidden_weights += X.T.dot(d_hidden_layer) * learning_rate\n",
    "\n",
    "hidden_layer_input = np.dot(X, hidden_weights)\n",
    "hidden_layer_output = sigmoid(hidden_layer_input)\n",
    "output_layer_input = np.dot(hidden_layer_output, output_weights)\n",
    "output_layer_output = sigmoid(output_layer_input)\n",
    "\n",
    "print(\"Результаты после обучения:\")\n",
    "print(output_layer_output)\n"
   ]
  }
 ],
 "metadata": {
  "kernelspec": {
   "display_name": "Python 3",
   "language": "python",
   "name": "python3"
  },
  "language_info": {
   "codemirror_mode": {
    "name": "ipython",
    "version": 3
   },
   "file_extension": ".py",
   "mimetype": "text/x-python",
   "name": "python",
   "nbconvert_exporter": "python",
   "pygments_lexer": "ipython3",
   "version": "3.11.5"
  }
 },
 "nbformat": 4,
 "nbformat_minor": 2
}
